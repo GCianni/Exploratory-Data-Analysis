{
 "cells": [
  {
   "cell_type": "code",
   "execution_count": 185,
   "metadata": {},
   "outputs": [],
   "source": [
    "import pandas as pd\n",
    "import seaborn as sns\n",
    "import matplotlib.pyplot as plt"
   ]
  },
  {
   "cell_type": "code",
   "execution_count": 186,
   "metadata": {
    "scrolled": true
   },
   "outputs": [],
   "source": [
    "#Import Dataset\n",
    "movies_data=pd.read_csv('..\\\\Exploratory Data Analysis\\\\movie_dataset\\\\ratings.csv')\n",
    "movies_name=pd.read_csv('..\\\\Exploratory Data Analysis\\\\movie_dataset\\\\movies.csv')"
   ]
  },
  {
   "cell_type": "code",
   "execution_count": 187,
   "metadata": {},
   "outputs": [
    {
     "name": "stderr",
     "output_type": "stream",
     "text": [
      "<ipython-input-187-d6c597ea0e10>:2: UserWarning: Pandas doesn't allow columns to be created via a new attribute name - see https://pandas.pydata.org/pandas-docs/stable/indexing.html#attribute-access\n",
      "  movies_name.colums = [\"Move_id\",\"Movie_title\",\"Movie_genres\"]\n"
     ]
    }
   ],
   "source": [
    "movies_data.columns = [\"User_id\", \"Film_id\", \"Rate\", \"Time\"]\n",
    "movies_name.colums = [\"Move_id\",\"Movie_title\",\"Movie_genres\"]"
   ]
  },
  {
   "cell_type": "code",
   "execution_count": 189,
   "metadata": {},
   "outputs": [
    {
     "name": "stdout",
     "output_type": "stream",
     "text": [
      "Unique Values: [4.  5.  3.  2.  1.  4.5 3.5 2.5 0.5 1.5]\n",
      "\n",
      "Values Counts:\n",
      " 4.0    26818\n",
      "3.0    20047\n",
      "5.0    13211\n",
      "3.5    13136\n",
      "4.5     8551\n",
      "2.0     7551\n",
      "2.5     5550\n",
      "1.0     2811\n",
      "1.5     1791\n",
      "0.5     1370\n",
      "Name: Rate, dtype: int64\n",
      "\n",
      "Describe count    100836.000000\n",
      "mean          3.501557\n",
      "std           1.042529\n",
      "min           0.500000\n",
      "25%           3.000000\n",
      "50%           3.500000\n",
      "75%           4.000000\n",
      "max           5.000000\n",
      "Name: Rate, dtype: float64\n"
     ]
    }
   ],
   "source": [
    "print('Unique Values:',movies_data['Rate'].unique())\n",
    "print('\\nValues Counts:\\n', movies_data['Rate'].value_counts())\n",
    "print ('\\nDescribe',movies_data['Rate'].describe())"
   ]
  },
  {
   "cell_type": "code",
   "execution_count": 190,
   "metadata": {},
   "outputs": [
    {
     "data": {
      "image/png": "[encoded data removed]",
      "text/plain": [
       "<Figure size 720x360 with 2 Axes>"
      ]
     },
     "metadata": {
      "needs_background": "light"
     },
     "output_type": "display_data"
    }
   ],
   "source": [
    "plt.figure(figsize=(10,5))\n",
    "plt.subplot(1, 2, 1)\n",
    "plt.title('Movies Avaliations Histogram')\n",
    "movies_data['Rate'].plot(kind='hist',grid=True)\n",
    "\n",
    "plt.subplot(1, 2, 2)\n",
    "plt.title('Movies Avaliations Boxplot')\n",
    "plt.ylabel('Avaliations')\n",
    "sns.boxplot(y=movies_data['Rate'])\n",
    "\n",
    "plt.show()"
   ]
  },
  {
   "cell_type": "code",
   "execution_count": 195,
   "metadata": {},
   "outputs": [
    {
     "name": "stdout",
     "output_type": "stream",
     "text": [
      "Query by Movie ID = 1\n",
      "\n",
      "        User_id  Film_id  Rate        Time\n",
      "0            1        1   4.0   964982703\n",
      "516          5        1   4.0   847434962\n",
      "874          7        1   4.5  1106635946\n",
      "1434        15        1   2.5  1510577970\n",
      "1667        17        1   4.5  1305696483\n",
      "...        ...      ...   ...         ...\n",
      "97364      606        1   2.5  1349082950\n",
      "98479      607        1   4.0   964744033\n",
      "98666      608        1   2.5  1117408267\n",
      "99497      609        1   3.0   847221025\n",
      "99534      610        1   5.0  1479542900\n",
      "\n",
      "[215 rows x 4 columns]\n",
      "\n",
      "Mean of Movie ID = 1: 3.9209302325581397\n"
     ]
    }
   ],
   "source": [
    "print(\"Query by Movie ID = 1\\n\\n\", movies_data.query(\"Film_id==1\"))\n",
    "print(\"\\nMean of Movie ID = 1:\", movies_data.query(\"Film_id==1\")['Rate'].mean())"
   ]
  },
  {
   "cell_type": "code",
   "execution_count": 192,
   "metadata": {},
   "outputs": [
    {
     "data": {
      "text/plain": [
       "count    9724.000000\n",
       "mean        3.262448\n",
       "std         0.869874\n",
       "min         0.500000\n",
       "25%         2.800000\n",
       "50%         3.416667\n",
       "75%         3.911765\n",
       "max         5.000000\n",
       "Name: Rate, dtype: float64"
      ]
     },
     "execution_count": 192,
     "metadata": {},
     "output_type": "execute_result"
    }
   ],
   "source": [
    "movie_mean=movies_data.groupby('Film_id').mean()['Rate']\n",
    "movie_mean.describe()"
   ]
  },
  {
   "cell_type": "code",
   "execution_count": 194,
   "metadata": {},
   "outputs": [
    {
     "data": {
      "image/png": "[encoded data removed]",
      "text/plain": [
       "<Figure size 720x360 with 2 Axes>"
      ]
     },
     "metadata": {
      "needs_background": "light"
     },
     "output_type": "display_data"
    }
   ],
   "source": [
    "plt.figure(figsize=(10,5))\n",
    "plt.subplot(1, 2, 1)\n",
    "plt.title('Movies ID Avaliations Histogram')\n",
    "movie_mean.plot(kind='hist', grid=True)\n",
    "plt.subplot(1, 2, 2)\n",
    "plt.title('Movies ID Avaliations Boxplot')\n",
    "plt.ylabel('Avaliations')\n",
    "sns.boxplot(y=movie_mean)\n",
    "\n",
    "plt.show()"
   ]
  },
  {
   "cell_type": "code",
   "execution_count": null,
   "metadata": {},
   "outputs": [],
   "source": []
  },
  {
   "cell_type": "code",
   "execution_count": null,
   "metadata": {},
   "outputs": [],
   "source": []
  },
  {
   "cell_type": "code",
   "execution_count": null,
   "metadata": {},
   "outputs": [],
   "source": []
  }
 ],
 "metadata": {
  "kernelspec": {
   "display_name": "Python 3",
   "language": "python",
   "name": "python3"
  },
  "language_info": {
   "codemirror_mode": {
    "name": "ipython",
    "version": 3
   },
   "file_extension": ".py",
   "mimetype": "text/x-python",
   "name": "python",
   "nbconvert_exporter": "python",
   "pygments_lexer": "ipython3",
   "version": "3.8.5"
  }
 },
 "nbformat": 4,
 "nbformat_minor": 4
}
